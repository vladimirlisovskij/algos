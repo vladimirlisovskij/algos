{
 "cells": [
  {
   "cell_type": "code",
   "execution_count": 42,
   "id": "portable-laptop",
   "metadata": {},
   "outputs": [],
   "source": [
    "import numpy as np\n",
    "import matplotlib.pyplot as plt"
   ]
  },
  {
   "cell_type": "code",
   "execution_count": 2,
   "id": "linear-genome",
   "metadata": {},
   "outputs": [],
   "source": [
    "def func(x):\n",
    "#     x = np.radians(x)\n",
    "    return 1 / (1 - 0.49 * np.sin(x)**2)"
   ]
  },
  {
   "cell_type": "code",
   "execution_count": 36,
   "id": "american-damage",
   "metadata": {},
   "outputs": [],
   "source": [
    "def random_sample(left, right):\n",
    "    return left + np.random.rand() * (right - left)"
   ]
  },
  {
   "cell_type": "code",
   "execution_count": 37,
   "id": "introductory-corner",
   "metadata": {},
   "outputs": [],
   "source": [
    "def standart(y):\n",
    "    return np.sqrt((y**2).mean() - y.mean()**2)"
   ]
  },
  {
   "cell_type": "code",
   "execution_count": 38,
   "id": "advisory-finish",
   "metadata": {},
   "outputs": [],
   "source": [
    "def simson(left, right, y):\n",
    "    n = y.shape[0] - 1\n",
    "    temp =  (right - left) / (3 * (n+1))\n",
    "    return temp *  (y[0] + 4*y[1:n-1:2].sum() + 2*y[2:n-2:2].sum() + y[n])"
   ]
  },
  {
   "cell_type": "code",
   "execution_count": 39,
   "id": "passive-nomination",
   "metadata": {},
   "outputs": [],
   "source": [
    "def monte_karlo(left, right, func, rolls):\n",
    "    XX = np.linspace(left, right, rolls)\n",
    "\n",
    "    n = 100000\n",
    "    counter = 0\n",
    "\n",
    "    ok_X = []\n",
    "    ok_Y = []\n",
    "    not_X = []\n",
    "    not_Y = []\n",
    "\n",
    "    for _ in range(n):\n",
    "        x = random_sample(left, right)\n",
    "        y = random_sample(down, up)\n",
    "        true_y = func(x)\n",
    "        if (true_y >= 0): \n",
    "            if (true_y >= y >= 0):\n",
    "                ok_X.append(x)\n",
    "                ok_Y.append(y)\n",
    "                counter += 1\n",
    "            else:\n",
    "                not_X.append(x)\n",
    "                not_Y.append(y)\n",
    "        else:\n",
    "            if (true_y <= y <= 0):\n",
    "                ok_X.append(x)\n",
    "                ok_Y.append(y)\n",
    "                counter -= 1\n",
    "            else:\n",
    "                not_X.append(x)\n",
    "                not_Y.append(y)\n",
    "\n",
    "    fig, ax = plt.subplots(figsize=(12, 12))\n",
    "    ax.xaxis.set_ticks(np.arange(left, right, 0.5))\n",
    "    ax.yaxis.set_ticks(np.arange(down, up, 0.5))\n",
    "    ax.scatter(ok_X, ok_Y, color=\"blue\")\n",
    "    ax.scatter(not_X, not_Y, color=\"red\")\n",
    "    ax.plot(XX, func(XX), color=\"black\")\n",
    "\n",
    "    print(\"value \", counter / n * (right - left) * (up - down))\n",
    "    print(\"deviation \", standart(np.array(ok_Y)))"
   ]
  },
  {
   "cell_type": "code",
   "execution_count": 40,
   "id": "formal-learning",
   "metadata": {},
   "outputs": [],
   "source": [
    "left, right = (0, 1.6)\n",
    "down, up = (-3, 3)"
   ]
  },
  {
   "cell_type": "code",
   "execution_count": 41,
   "id": "expensive-burning",
   "metadata": {},
   "outputs": [
    {
     "name": "stdout",
     "output_type": "stream",
     "text": [
      "value  2.263008\n",
      "deviation  0.4735974261149582\n"
     ]
    },
    {
     "data": {
      "image/png": "[encoded data removed]",
      "text/plain": [
       "<Figure size 864x864 with 1 Axes>"
      ]
     },
     "metadata": {
      "needs_background": "light"
     },
     "output_type": "display_data"
    }
   ],
   "source": [
    "monte_karlo(left, right, func, 1000)"
   ]
  },
  {
   "cell_type": "code",
   "execution_count": 32,
   "id": "authorized-maldives",
   "metadata": {},
   "outputs": [
    {
     "data": {
      "text/plain": [
       "2.2562621356123573"
      ]
     },
     "execution_count": 32,
     "metadata": {},
     "output_type": "execute_result"
    }
   ],
   "source": [
    "simson(left, right, func(np.linspace(left, right, 10000)))"
   ]
  },
  {
   "cell_type": "code",
   "execution_count": 46,
   "id": "limiting-berry",
   "metadata": {},
   "outputs": [],
   "source": [
    "def adapt_simson(left, right, func, start_k, epsilon):    \n",
    "    ans = simson(left, right, func(np.linspace(left, right, start_k)))\n",
    "    start_k *= 2\n",
    "    ans2 = simson(left, right, func(np.linspace(left, right, start_k)))\n",
    "    if (abs(ans - ans2) > epsilon):\n",
    "        middle = (left + right) / 2\n",
    "        return adapt_simson(left, middle, funcc, start_k, epsilon) + adapt_simson(middle, right, func, start_k, epsilon)\n",
    "    else:\n",
    "        return ans2"
   ]
  },
  {
   "cell_type": "code",
   "execution_count": 47,
   "id": "tight-pizza",
   "metadata": {},
   "outputs": [
    {
     "data": {
      "text/plain": [
       "2.2479739889744708"
      ]
     },
     "execution_count": 47,
     "metadata": {},
     "output_type": "execute_result"
    }
   ],
   "source": [
    "adapt_simson(0, 1.6, func, 2, 10**(-4))"
   ]
  },
  {
   "cell_type": "code",
   "execution_count": null,
   "id": "sorted-nirvana",
   "metadata": {},
   "outputs": [],
   "source": []
  }
 ],
 "metadata": {
  "kernelspec": {
   "display_name": "Python 3",
   "language": "python",
   "name": "python3"
  },
  "language_info": {
   "codemirror_mode": {
    "name": "ipython",
    "version": 3
   },
   "file_extension": ".py",
   "mimetype": "text/x-python",
   "name": "python",
   "nbconvert_exporter": "python",
   "pygments_lexer": "ipython3",
   "version": "3.8.5"
  }
 },
 "nbformat": 4,
 "nbformat_minor": 5
}
